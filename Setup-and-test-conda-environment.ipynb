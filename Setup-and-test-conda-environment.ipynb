{
 "cells": [
  {
   "cell_type": "markdown",
   "metadata": {},
   "source": [
    "# Setting up your conda environment\n",
    "\n",
    "For this unit we need to create a conda environment.\n",
    "\n",
    "We use conda environments to ensure that all of you are running the right version of python, and so that we have a safe place to install the libraries we will need later in the term when we get onto more advanced topics in AI and media processing.\n",
    "\n",
    "By making an environment for each class, this ensures that libraries you might need to install for other classes or projects you are working on do not interfere with the ones we need to us for this class.\n",
    "\n",
    "To do this, we need to use the terminal or command prompt (you will need to use the program Anaconda Command Prompt on Windows)."
   ]
  },
  {
   "cell_type": "markdown",
   "metadata": {},
   "source": [
    "### Creating you environment in the terminal (or anaconda command prompt)\n",
    "\n",
    "Open you the software program terminal (on Mac) or anaconda prompt (on Windows).\n",
    "\n",
    "In your terminal navigate to this folder and run the following commands, one after the other:"
   ]
  },
  {
   "cell_type": "markdown",
   "metadata": {},
   "source": [
    "```\n",
    "conda create --name aim python=3.10\n",
    "```"
   ]
  },
  {
   "cell_type": "markdown",
   "metadata": {},
   "source": [
    "```\n",
    "conda activate aim\n",
    "```"
   ]
  },
  {
   "cell_type": "markdown",
   "metadata": {},
   "source": [
    "```\n",
    "pip install ipython jupyter\n",
    "```"
   ]
  },
  {
   "cell_type": "markdown",
   "metadata": {},
   "source": [
    "## Testing your conda environment \n",
    "\n",
    "We now need to set this notebook to be run using your new conda environment. First, **you will need to restart this VSCode before this new environment will show up as an option**.\n",
    "\n",
    "To do this click the **Select kernel** button in the menu bar at the top right of this notebook, then press **Python Environments...** and then select `aim`. \n",
    "\n",
    "To make sure that is configured properly, Hit the run cell button (▶) on the cell below:"
   ]
  },
  {
   "cell_type": "code",
   "execution_count": null,
   "metadata": {},
   "outputs": [],
   "source": [
    "import os\n",
    "print(os.environ['CONDA_DEFAULT_ENV'])"
   ]
  },
  {
   "cell_type": "markdown",
   "metadata": {},
   "source": [
    "That cell above should output the text `aim`"
   ]
  },
  {
   "cell_type": "markdown",
   "metadata": {},
   "source": [
    "### Installing the libraries needed for this unit\n",
    "\n",
    "Now we need to install the libraries that we need for this unit, they are listed in the file [requirements.txt](requirements.txt)\n",
    "\n",
    "To do that run the code in the following cell:"
   ]
  },
  {
   "cell_type": "code",
   "execution_count": null,
   "metadata": {},
   "outputs": [],
   "source": [
    "%pip install -r requirements.txt"
   ]
  },
  {
   "cell_type": "markdown",
   "metadata": {},
   "source": [
    "If that worked without any errors, then we can double check to see if we can access the libraries we have just installed in the cell below. The first time you run this it may be slow, and you may need to run this more than once before it works properly:"
   ]
  },
  {
   "cell_type": "code",
   "execution_count": null,
   "metadata": {},
   "outputs": [],
   "source": [
    "import numpy as np\n",
    "import torch\n",
    "import torchaudio\n",
    "import torchvision\n",
    "import cv2\n",
    "import streamlit\n",
    "import transformers\n",
    "import librosa\n",
    "import PIL\n",
    "\n",
    "print(f'numpy version: {np.__version__}')\n",
    "print(f'torch version: {torch.__version__}')\n",
    "print(f'torchaudio version: {torchaudio.__version__}')\n",
    "print(f'torchvision version: {torchvision.__version__}')\n",
    "print(f'opencv version: {cv2.__version__}')\n",
    "print(f'streamlit version: {streamlit.__version__}')\n",
    "print(f'transformers version: {transformers.__version__}')\n",
    "print(f'librosa version: {librosa.__version__}')\n",
    "print(f'Pillow version: {PIL.__version__}')"
   ]
  }
 ],
 "metadata": {
  "kernelspec": {
   "display_name": "tikz",
   "language": "python",
   "name": "python3"
  },
  "language_info": {
   "codemirror_mode": {
    "name": "ipython",
    "version": 3
   },
   "file_extension": ".py",
   "mimetype": "text/x-python",
   "name": "python",
   "nbconvert_exporter": "python",
   "pygments_lexer": "ipython3",
   "version": "3.10.16"
  }
 },
 "nbformat": 4,
 "nbformat_minor": 2
}
