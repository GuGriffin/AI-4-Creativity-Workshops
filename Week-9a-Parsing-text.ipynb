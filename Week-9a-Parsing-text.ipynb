{
 "cells": [
  {
   "cell_type": "markdown",
   "metadata": {},
   "source": [
    "# Week 5: Parsing text\n",
    "\n",
    "This week you will be learning about methods for parsing text in Python, including [Python String methods](https://www.w3schools.com/python/python_ref_string.asp) and [Python Regular Expressions (regex)](https://www.w3schools.com/python/python_regex.asp).\n",
    "\n",
    "Before you get started though, let just make sure that this notebook is setup to run using the `nlp` conda environment that you created last week.\n",
    "\n",
    "To set this notebook to the right environment, click the **Select kernel** button in the top right corner of this notebook, then select **Python Environments...** and then select the environment `nlp`.\n",
    "\n",
    "To double check you have done this correctly, hit the run cell button (▶) on the cell below:"
   ]
  },
  {
   "cell_type": "code",
   "execution_count": null,
   "metadata": {},
   "outputs": [],
   "source": [
    "import os\n",
    "print(os.environ['CONDA_DEFAULT_ENV'])"
   ]
  },
  {
   "cell_type": "markdown",
   "metadata": {},
   "source": [
    "## Python String methods\n",
    "\n",
    "Python [has many String methods](https://www.w3schools.com/python/python_ref_string.asp) that allow you to parse and manipulate strings. Lets look at some of them.\n",
    "\n",
    "##### Case manipulation:"
   ]
  },
  {
   "cell_type": "code",
   "execution_count": null,
   "metadata": {},
   "outputs": [],
   "source": [
    "my_string = 'My name is Terence Broad.'\n",
    "print(my_string)\n",
    "print(my_string.lower())\n",
    "print(my_string.upper())\n",
    "print(my_string.swapcase())"
   ]
  },
  {
   "cell_type": "markdown",
   "metadata": {},
   "source": [
    "##### Replace"
   ]
  },
  {
   "cell_type": "code",
   "execution_count": null,
   "metadata": {},
   "outputs": [],
   "source": [
    "my_string = 'I like apples.'\n",
    "print(my_string)\n",
    "print(my_string.replace('I', 'You'))"
   ]
  },
  {
   "cell_type": "markdown",
   "metadata": {},
   "source": [
    "##### Split"
   ]
  },
  {
   "cell_type": "code",
   "execution_count": null,
   "metadata": {},
   "outputs": [],
   "source": [
    "my_string = 'take key and open door'\n",
    "print(my_string)\n",
    "print(my_string.split(' '))"
   ]
  },
  {
   "cell_type": "markdown",
   "metadata": {},
   "source": [
    "##### Find"
   ]
  },
  {
   "cell_type": "code",
   "execution_count": null,
   "metadata": {},
   "outputs": [],
   "source": [
    "my_string = 'take key and open door'\n",
    "print(my_string)\n",
    "print(my_string.find('open'))\n",
    "print(my_string.find('door'))\n",
    "print(my_string.find('lock'))"
   ]
  },
  {
   "cell_type": "markdown",
   "metadata": {},
   "source": [
    "## Regular Expressions\n",
    "\n",
    "Regular Expressions (regex) allows us to do more complex pattern matching with strings.\n",
    "\n",
    "[regex101.com](https://regex101.com/) is a handy website for creating and testing regex patterns. \n",
    "\n",
    "The [regex cheatsheet](https://cheatography.com/davechild/cheat-sheets/regular-expressions/) is a handy resource for checking what each symbol does in regex.\n",
    "\n",
    "Regex is much older than Python, and exists in many programming languages (though sometimes with slight variations in how they implement instructions).\n",
    "\n",
    "Regex is so commonly used in Python code it has it's own in-built library.\n",
    "\n",
    "Run the cell below to import it:"
   ]
  },
  {
   "cell_type": "code",
   "execution_count": 6,
   "metadata": {},
   "outputs": [],
   "source": [
    "import re"
   ]
  },
  {
   "cell_type": "markdown",
   "metadata": {},
   "source": [
    "This notebook won't go over all the possible things you can do with regex or how to construct them, for that refer to the slides, or to the [regex cheatsheet](https://cheatography.com/davechild/cheat-sheets/regular-expressions/).\n",
    "\n",
    "If you want to practice making regex's, you can do the activities on [regex golf](https://alf.nu/RegexGolf?world=regex&level=r00) or [regex crossword](https://regexcrossword.com/).\n",
    "\n",
    "The python regex library has many similar functions to the sting methods, but with the pattern matching power of regex:\n",
    "\n",
    "##### Search\n",
    "\n",
    "Return True of False if there is a match"
   ]
  },
  {
   "cell_type": "code",
   "execution_count": null,
   "metadata": {},
   "outputs": [],
   "source": [
    "test_strings = ['1234', '123', 'hello', '4567']\n",
    "\n",
    "for test_str in test_strings:\n",
    "    match = re.search(r'\\d{4}', test_str)\n",
    "    if match:\n",
    "        print('its a match!')\n",
    "    else:\n",
    "        print('not a match')"
   ]
  },
  {
   "cell_type": "markdown",
   "metadata": {},
   "source": [
    "##### Match\n",
    "\n",
    "You can use the match function to extract the first match in your regex, including and groups defined by parenthesis: `()`"
   ]
  },
  {
   "cell_type": "code",
   "execution_count": null,
   "metadata": {},
   "outputs": [],
   "source": [
    "test_string = '01 April 2024'\n",
    "\n",
    "match = re.match(r'(\\d\\d) (\\w*) (\\d\\d\\d\\d)', test_string)\n",
    "\n",
    "print(match.group(0))\n",
    "print(match.group(1))\n",
    "print(match.group(2))\n",
    "print(match.group(3))"
   ]
  },
  {
   "cell_type": "markdown",
   "metadata": {},
   "source": [
    "##### Find all\n",
    "\n",
    "Find all matches in a string:"
   ]
  },
  {
   "cell_type": "code",
   "execution_count": null,
   "metadata": {},
   "outputs": [],
   "source": [
    "test_string = '1234, 5678, hello, 9876'\n",
    "matches = re.findall(r'\\d{4}', test_string)\n",
    "\n",
    "for match in matches:\n",
    "    print(match)"
   ]
  },
  {
   "cell_type": "markdown",
   "metadata": {},
   "source": [
    "##### Substitute \n",
    "\n",
    "Substitute a match with a new string:"
   ]
  },
  {
   "cell_type": "code",
   "execution_count": null,
   "metadata": {},
   "outputs": [],
   "source": [
    "test_string = '1234, 5678, hello, 9876'\n",
    "new_string = re.sub(r'\\d{4}', '****' ,test_string)\n",
    "\n",
    "print(new_string)"
   ]
  },
  {
   "cell_type": "markdown",
   "metadata": {},
   "source": [
    "##### Split\n",
    "\n",
    "Split a string using a regex pattern:"
   ]
  },
  {
   "cell_type": "code",
   "execution_count": null,
   "metadata": {},
   "outputs": [],
   "source": [
    "test_string = 'dogs, cats, guinea pigs and hamsters'\n",
    "animals = re.split(r'and|,' ,test_string)\n",
    "\n",
    "print(animals)"
   ]
  },
  {
   "cell_type": "markdown",
   "metadata": {},
   "source": [
    "## Tasks in notebook"
   ]
  },
  {
   "cell_type": "markdown",
   "metadata": {},
   "source": [
    "### Task 1: Process String\n",
    "\n",
    "Write a function for pre-processing your string. Your function should:\n",
    "\n",
    "- (A) Make the string lowercase\n",
    "- (B) Remove all [non-ascii characters from the string](https://stackoverflow.com/a/35579848)\n",
    "- (C) Return the modified string"
   ]
  },
  {
   "cell_type": "code",
   "execution_count": null,
   "metadata": {},
   "outputs": [],
   "source": [
    "def process_input(user_input):\n",
    "    # Put your code here"
   ]
  },
  {
   "cell_type": "markdown",
   "metadata": {},
   "source": [
    "Test your function below:"
   ]
  },
  {
   "cell_type": "code",
   "execution_count": null,
   "metadata": {},
   "outputs": [],
   "source": [
    "my_str = \"🌟 Hey ThErE!! 🌈 Have YoU HeArD tHe LaTeSt NeWs?! 😱 It’S tOtAlLy AmAzInG! ✨😆 I jUsT gOt BaCk FrOm ThE BeAcH 🏖️ AnD ThE wEaThEr wAs PeRfEcT! ☀️ I eVeN sAw A dOlPhIn! 🐬 (I cAn’T eVeN! 😂)\"\n",
    "\n",
    "new_str = process_input(my_str)\n",
    "print(new_str)"
   ]
  },
  {
   "cell_type": "markdown",
   "metadata": {},
   "source": [
    "### Task 2: Replace pronouns \n",
    "\n",
    "One functionality of ELIZA is that it will replace pronouns so that statements made in the first and second person by the user get swapped when the text is part of a statement is relayed back to the user as a question by the chatbot. \n",
    "\n",
    "Here are the pronoun pairings, given as a list of tuples. The first variable in the tuple pair is the regex to find a string pattern and the second is the replacement string. "
   ]
  },
  {
   "cell_type": "code",
   "execution_count": 6,
   "metadata": {},
   "outputs": [],
   "source": [
    "pronoun_pairings = [\n",
    "    (r\"am\", \"are\"),\n",
    "    (r\"was\", \"were\"),\n",
    "    (r\"i\", \"you\"),\n",
    "    (r\"i'd\", \"you would\"),\n",
    "    (r\"i've\", \"you have\"),\n",
    "    (r\"i'll\", \"you will\"),\n",
    "    (r\"my\", \"your\"),\n",
    "    (r\"are\", \"am\"),\n",
    "    (r\"you've\", \"I have\"),\n",
    "    (r\"you'll\", \"I will\"),\n",
    "    (r\"your\", \"my\"),\n",
    "    (r\"yours\", \"mine\"),\n",
    "    (r\"you\", \"me\"),\n",
    "    (r\"me\", \"you\")\n",
    "]"
   ]
  },
  {
   "cell_type": "markdown",
   "metadata": {},
   "source": [
    "In the function below write a `for` loop iterates over every tuple in `pronoun_pairings`.\n",
    "\n",
    "Use regex to find and substitute the matching string. \n",
    "\n",
    "> Tip: You will need to find a way of breaking out of the for loop the first time that a swap has been performed, otherwise you may end up swapping it twice and ending up with the same string you started with. \n",
    "> \n",
    "> Try combing `re.match` and `re.sub`, or use `re.subn` to get a count of how many replacements have been made.\n",
    "\n",
    "Once substituted, return the string."
   ]
  },
  {
   "cell_type": "code",
   "execution_count": null,
   "metadata": {},
   "outputs": [],
   "source": [
    "def swap_pronoun(self, input_str):        \n",
    "    # Put your code here"
   ]
  },
  {
   "cell_type": "markdown",
   "metadata": {},
   "source": [
    "Test your code here:"
   ]
  },
  {
   "cell_type": "code",
   "execution_count": null,
   "metadata": {},
   "outputs": [],
   "source": [
    "test_strings = [\"was good\", \"am happy\", \"your help\", \"you've made\",\"i'll try\", \"i've messed up\"]\n",
    "\n",
    "for test_str in test_strings:\n",
    "    print(f\"input str: '{test_str}', output str:'{swap_pronoun(test_str)}' \")"
   ]
  },
  {
   "cell_type": "markdown",
   "metadata": {},
   "source": [
    "Now lets test it with some more difficult examples:"
   ]
  },
  {
   "cell_type": "code",
   "execution_count": null,
   "metadata": {},
   "outputs": [],
   "source": [
    "test_strings = [\"i like pie\", \"youve helped\", \"ive given it\", \"jam and ham\",\"yummy\", \"fare\"]\n",
    "\n",
    "for test_str in test_strings:\n",
    "    print(f\"input str: '{test_str}', output str:'{swap_pronoun(test_str)}' \")"
   ]
  },
  {
   "cell_type": "markdown",
   "metadata": {},
   "source": [
    "Can you figure text fragments in `pronoun_pairs` have been wrongly substituted in here?\n",
    "\n",
    "Try and edit the regex's in pronoun pairs to prevent these erroneous substitutions being made.\n",
    "> Tip: Use `\\b` to set word boundaries before and after the text in the regexs and use `?` to characters where the string is valid with they are included 0 or 1 times in the text."
   ]
  },
  {
   "cell_type": "markdown",
   "metadata": {},
   "source": [
    "### Task 3: Identify pattern and return response \n",
    "\n",
    "The first text pattern that your ELIZA chatbot is going to respond to is the statement 'I need {...}'. When the chatbot finds the string 'I need {...}' it responds with one of the three following statements:\n",
    "\n",
    "- Why do you need {...}?\n",
    "- Are you sure you need {...}?\n",
    "- Would it really help you to get {...}?"
   ]
  },
  {
   "cell_type": "markdown",
   "metadata": {},
   "source": [
    "Create a regex that can match a string with the pattern 'I need {...}', e.g. 'I need help', 'I need a holiday', 'I need a pet to keep me company' \n",
    "\n",
    "The regex will need to extract whatever text follows 'I need' as a separate group, this will then be extracted and used to formulate a response that is posed to the user.\n",
    "> Tip: You can create groups in your regex with parenthesis `()`\n",
    "\n",
    "Try building and testing your regex in [regex101.com](https://regex101.com/) before copying and pasting it in the cell below. \n",
    "> Tip: The [regex cheatsheet](https://cheatography.com/davechild/cheat-sheets/regular-expressions/) is a handy resource for checking what each symbol does."
   ]
  },
  {
   "cell_type": "code",
   "execution_count": 14,
   "metadata": {},
   "outputs": [],
   "source": [
    "need_regex = r''"
   ]
  },
  {
   "cell_type": "markdown",
   "metadata": {},
   "source": [
    "Here are the preset responses the the statement 'I need {x}' in code form:"
   ]
  },
  {
   "cell_type": "code",
   "execution_count": 15,
   "metadata": {},
   "outputs": [],
   "source": [
    "need_responses = ['Why do you need {x}?','Are you sure you need {x}?', 'Would it really help you to get {x}']"
   ]
  },
  {
   "cell_type": "markdown",
   "metadata": {},
   "source": [
    "Now write a function that takes in a regex and list of responses.\n",
    "\n",
    "This function should: \n",
    "- Use `re.match` if the regex matches\n",
    "- Extract the string from the group which captures the text that follows 'I need'\n",
    "- Use the function `swap_pronoun` to change the pronouns in the extracted string\n",
    "- Use `re.sub` to substitute '{x}' in the response with the extracted string\n",
    "- return the string\n",
    "\n",
    "If there is no match then return `None`"
   ]
  },
  {
   "cell_type": "code",
   "execution_count": null,
   "metadata": {},
   "outputs": [],
   "source": [
    "def match_and_respond(regex, responses, input_str):\n",
    "    # Your code goes here"
   ]
  },
  {
   "cell_type": "markdown",
   "metadata": {},
   "source": [
    "Now test your code:"
   ]
  },
  {
   "cell_type": "code",
   "execution_count": null,
   "metadata": {},
   "outputs": [],
   "source": [
    "test_strings = [\"i need a dog\", \"i need a holiday\", \"i need my life back\", \"don't tell me what i need\"]\n",
    "\n",
    "for test_str in test_strings:\n",
    "    new_str = match_and_respond(need_regex, need_responses, test_str)\n",
    "    print(f\"Input str: '{test_str}', Output str: '{new_str}'\")"
   ]
  },
  {
   "cell_type": "markdown",
   "metadata": {},
   "source": [
    "The first three should return a response from `need_responses` with the statement substituted, the last one should return `None`."
   ]
  },
  {
   "cell_type": "markdown",
   "metadata": {},
   "source": [
    "## ELIZA chatbot tasks\n",
    "\n",
    "In the file [week-5b-eliza-chatbot.py](week-5b-eliza-chatbot.py),"
   ]
  },
  {
   "cell_type": "markdown",
   "metadata": {
    "vscode": {
     "languageId": "plaintext"
    }
   },
   "source": [
    "### Task 4: Create farewell message\n",
    "\n",
    "In `ELIZA` create a class member function `farewell` that overrides `farewell` in chatbot_base.py.\n",
    "\n",
    "Your function should randomly print out or return one of at least three messages (feel free to add your own to this list): 'Goodbye', 'Have a nice day', 'I hope you had a productive therapy session, see you next time'.\n",
    "\n",
    "Your function should also set the boolean value `self.conversation_is_active` from `True` to `False`."
   ]
  },
  {
   "cell_type": "markdown",
   "metadata": {},
   "source": [
    "### Task 5: Add functions and variables from tasks to the chatbot\n",
    "\n",
    "Add the functions that you have created for tasks [1](#task-1-process-string), [2](#task-2-replace-pronouns) and [3](#task-3-identify-pattern-and-return-response) as member functions to the chatbot Eliza.\n",
    "\n",
    "Don't forget to use the keywords `self` when defining the functions!\n",
    "\n",
    "Also make sure to add the variable `pronoun_pairings` from [Task 2](#task-2-replace-pronouns) to your chatbot when the constructor is called."
   ]
  },
  {
   "cell_type": "markdown",
   "metadata": {},
   "source": [
    "### Task 6: Generate response \n",
    "\n",
    "Create a member function `generate_response` in the class `ELIZA` that overrides `generate_response` from ChatbotBase. This function should return a response a String. \n",
    "\n",
    "This function should have a series of `if-else` statements that do the following:\n",
    "- Use `re.search` to look for the words 'hi', 'hello', 'hey' and respond with one of the following:\n",
    "  - 'Hello',\n",
    "  - 'Nice to meet you',\n",
    "  - 'We have already introduced ourselves...'\n",
    "- Use `re.search` to look for the words 'bye', 'goodbye', 'quit', 'exit', then call the function `self.farewell`.\n",
    "- Use the function `match_and_respond` with the regex `need_regex` and `need_responses` to create a response statement. If a response is generated return it, otherwise `pass` this.\n",
    "- In the final `else` statement randomly return one of default responses in `self.default_responses`"
   ]
  },
  {
   "cell_type": "markdown",
   "metadata": {},
   "source": [
    "### Task 7: Test your chatbot \n",
    "\n",
    "Now you can test your chatbot. Try putting in statements to test all of the conditions that are in the function `generate_response` from Task 6.\n",
    "\n",
    "Is it behaving as expected, if not then try to figure out what is going wrong in your code. If you suspect that a regex is causing a bug, then it is a good idea to test this separately in [regex101.com](https://regex101.com/)"
   ]
  },
  {
   "cell_type": "markdown",
   "metadata": {},
   "source": [
    "## Bonus tasks\n",
    "\n",
    "Here are some bonus tasks:"
   ]
  },
  {
   "cell_type": "markdown",
   "metadata": {},
   "source": [
    "### Task A: Add responses for different inputs\n",
    "\n",
    "Here is a selection of more patterns and responses, add some (or all) of these to your chatbot code. \n",
    "> Tip: You may want to put these in a data structure owned by the class `ELIZA` or in a separate config file that gets loaded into a data structure when the constructor is called.\n",
    "\n",
    "'{x} computer {x}'\n",
    "- Are you really talking about me?\n",
    "- Does it seem strange to talk to a computer?\n",
    "- How do computers make you feel?\n",
    "- Do you feel threatened by computers?\n",
    "\n",
    "'Is it {x}'\n",
    "- Do you think it is {x}?\n",
    "- Perhaps it's {x} -- what do you think?\n",
    "- If it were {x}, what would you do?\n",
    "- It could well be that {x}.\n",
    "\n",
    "'It is {x}'\n",
    "- You seem very certain.\n",
    "- If I told you that it probably isn't {x}, what would you feel?\n",
    "\n",
    "'Can you {x}?'\n",
    "- What makes you think I can't {x}?\n",
    "- If I could {x}, then what?\n",
    "- Why do you ask if I can {x}?\n",
    "\n",
    "'Can I {x}?'\n",
    "- Perhaps you don't want to {x}.\n",
    "- Do you want to be able to {x}?\n",
    "- If you could {x}, would you?\n",
    "\n",
    "'You are {x}'\n",
    "- Why do you think I am {x}?\n",
    "- Does it please you to think that I'm {x}?\n",
    "- Perhaps you would like me to be {x}.\n",
    "- Perhaps you're really talking about yourself?\n",
    "\n",
    "'You're {x}'\n",
    "- Why do you say I am {x}?\n",
    "- Why do you think I am {x}?\n",
    "- Are we talking about you, or me?\n",
    "\n",
    "'I don't {x}'\n",
    "- Don't you really {x}?\n",
    "- Why don't you {x}?\n",
    "- Do you want to {x}?\n",
    "\n",
    "'I feel {x}'\n",
    "- Good, tell me more about these feelings.\n",
    "- Do you often feel {x}?\n",
    "- When do you usually feel {x}?\n",
    "- When you feel {x}, what do you do?\n",
    "\n",
    "'I have {x}'\n",
    "- Why do you tell me that you've {x}?\n",
    "- Have you really {x}?\n",
    "- Now that you have {x}, what will you do next?\n",
    "\n",
    "'I would {x}'\n",
    "- Could you explain why you would {x}?\n",
    "- Why would you {x}?\n",
    "- Who else knows that you would {x}?\n",
    "\n",
    "'Is there {x}'\n",
    "- Do you think there is {x}?\n",
    "- It's likely that there is {x}.\n",
    "- Would you like there to be {x}?\n",
    "\n",
    "'My {x}'\n",
    "- I see, your {x}.\n",
    "- Why do you say that your {x}?\n",
    "- When your {x}, how do you feel?\n",
    "\n",
    "'You {x}'\n",
    "- We should be discussing you, not me.\n",
    "- Why do you say that about me?\n",
    "- Why do you care whether I {x}?\n",
    "\n",
    "'Why {x}'\n",
    "- Why don't you tell me the reason why {x}?\n",
    "- Why do you think {x}?\n",
    "\n",
    "'I want {x}'\n",
    "- What would it mean to you if you got {x}?\n",
    "- Why do you want {x}?\n",
    "- What would you do if you got {x}?\n",
    "- If you got {x}, then what would you do?\n",
    "\n",
    "'{x} mother {x}'\n",
    "- Tell me more about your mother.\n",
    "- What was your relationship with your mother like?\n",
    "- How do you feel about your mother?\n",
    "- How does this relate to your feelings today?\n",
    "- Good family relations are important.\n",
    "\n",
    "'{x} father {x}'\n",
    "- Tell me more about your father.\n",
    "- How did your father make you feel?\n",
    "- How do you feel about your father?\n",
    "- Does your relationship with your father relate to your feelings today?\n",
    "- Do you have trouble showing affection with your family?\n",
    "\n",
    "'{x} child {x}'\n",
    "- Did you have close friends as a child?\n",
    "- What is your favorite childhood memory?\n",
    "- Do you remember any dreams or nightmares from childhood?\n",
    "- Did the other children sometimes tease you?\n",
    "- How do you think your childhood experiences relate to your feelings today?\n",
    "\n",
    "'{x}?'\n",
    "- Why do you ask that?\n",
    "- Please consider whether you can answer your own question.\n",
    "- Perhaps the answer lies within yourself?\n",
    "- Why don't you tell me?\n",
    "\n",
    "'Yes'\n",
    "- You seem quite sure.\n",
    "- OK, but can you elaborate a bit?"
   ]
  },
  {
   "cell_type": "markdown",
   "metadata": {},
   "source": [
    "### Task B: Error handling \n",
    "\n",
    "In the function `process_input` do some checks on the string:\n",
    "- If it exceed 500 characters in length, throw a `ValueError` with the message 'input string is too long, keep responses within 500 characters'\n",
    "- If the variable `user_input` is not a string, throw a `ValueError` with the message 'input string is too long, keep responses within 500 characters'\n",
    ">Tip: use the function `isinstance()` to check a variable's type.\n",
    "- Override the function `respond` from `ChatbotBase` and call the function `process_input` in a [Try-Except block](https://www.w3schools.com/python/python_try_except.asp), [catch the error](https://stackoverflow.com/a/4690655) and return the error message as a string as a response."
   ]
  },
  {
   "cell_type": "markdown",
   "metadata": {},
   "source": [
    "### Task C: Log chat history\n",
    "\n",
    "1. Log the chat history between the user and the chatbot, any time the chatbot outputs a message in `respond` `greeting` or `farewell` append this string to a list called `self.chat_log`, make sure to prefix your string with 'ELIZA: ' before logging it.\n",
    "2. In the function `respond` or `receive_input` (you will have to override these from ChatbotBase in ELIZA) or `process_input`, append the response from the user to the list `self.chat_log`, make sure to prefix your string with 'User: ' before logging it.\n",
    "3. Create a [destructor](https://www.geeksforgeeks.org/destructors-in-python/) for your `ELIZA` class with the function `__del__`. In this function save the chat-log to a text file, where each string in the list self.chat_log is output to a new line.\n",
    "> Tip: Check [this stackoverflow thread](https://stackoverflow.com/questions/33686747/save-a-list-to-a-txt-file) for how to print a list to a text file.\n",
    "4. Use the code example from [Week-4-Classes.ipynb](Week-4-Classes.ipynb) to name this file with the date and time of the session."
   ]
  }
 ],
 "metadata": {
  "kernelspec": {
   "display_name": "nlp",
   "language": "python",
   "name": "python3"
  },
  "language_info": {
   "codemirror_mode": {
    "name": "ipython",
    "version": 3
   },
   "file_extension": ".py",
   "mimetype": "text/x-python",
   "name": "python",
   "nbconvert_exporter": "python",
   "pygments_lexer": "ipython3",
   "version": "3.10.15"
  }
 },
 "nbformat": 4,
 "nbformat_minor": 2
}
