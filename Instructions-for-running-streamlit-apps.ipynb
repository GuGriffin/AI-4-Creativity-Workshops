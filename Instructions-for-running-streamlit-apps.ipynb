{
 "cells": [
  {
   "cell_type": "markdown",
   "metadata": {},
   "source": [
    "# Week 3B - Interacting with AI using streamlit \n",
    "\n",
    "In this task you will be introduced to the [streamlit python library](https://github.com/streamlit/streamlit). Streamlit is a python library that allows you to quickly prototype rich, web-based user interfaces that are designed to easily interact with AI models (like pytorch) in Python.\n",
    "\n",
    "Streamlit also lets you publish and host your apps publicly on the web using their cloud platform (this service appears to be free currently, but as its a commercial operation, they may start charging for this service at some point). You can take a look at the [streamlit app gallery](https://streamlit.io/gallery) to see examples of what can be built using streamlit. \n",
    "\n",
    "In this weeks activity, and some of the ones in later weeks, you will be using streamlit to build applications to interact with AI models. There is not time to cover streamlit comprehensively in this course (the activities in class will guide you through building specific use cases related to the class), but if you want to learn streamlit in more depth, then you can walk through their [30 days of streamlit introductory course](https://blog.streamlit.io/30-days-of-streamlit/) in your own time.\n",
    "\n",
    "Before you get started, you need to make sure you are in the right python environment."
   ]
  },
  {
   "cell_type": "markdown",
   "metadata": {},
   "source": [
    "### Setting up your Python environment\n",
    "\n",
    "Before you work through this notebook, please follow the instructions in [Setup-and-test-conda-environment.ipynb](Setup-and-test-conda-environment.ipynb)\n",
    "\n",
    "Once you have done that you will need to make sure that the environment selected to run this notebook and all the other notebooks used in this unit is called `aim`. \n",
    "\n",
    "To do this click the **Select kernel** button in the top right corner of this notebook, and then select `aim`.\n",
    "\n",
    "To make sure that is configured properly, Hit the run cell button (▶) on the cell below:"
   ]
  },
  {
   "cell_type": "code",
   "execution_count": null,
   "metadata": {},
   "outputs": [
    {
     "name": "stdout",
     "output_type": "stream",
     "text": [
      "aim\n"
     ]
    }
   ],
   "source": [
    "import os\n",
    "print(os.environ['CONDA_DEFAULT_ENV'])"
   ]
  },
  {
   "cell_type": "markdown",
   "metadata": {},
   "source": [
    "Does it output the text `aim`?\n",
    "\n",
    "If it does not output the text `aim`, please revisit and follow the instructions in [Setup-and-test-conda-environment.ipynb](Setup-and-test-conda-environment.ipynb).\n",
    "\n",
    "If you still cannot get it working, please raise this with the course instructor. "
   ]
  },
  {
   "cell_type": "markdown",
   "metadata": {},
   "source": [
    "### Install streamlit-drawable-canvas\n",
    "\n",
    "In the task you are going to be recreating the [sketchy collections project](https://ualshowcase.arts.ac.uk/project/316244/cover) by superstar DSAI alumni Polo Sologub, which they recently presented in the Creative AI track at the NeurIPS 2024 conference, which is one of the top venues for researchers to share new developments in AI!\n",
    "\n",
    "Before you can start building your app, you will need to install the [streamlit drawable canvas library](https://github.com/andfanilo/streamlit-drawable-canvas) to allow users to use drawing as an input to the python app. Run the cell below to install the library:"
   ]
  },
  {
   "cell_type": "code",
   "execution_count": 1,
   "metadata": {},
   "outputs": [
    {
     "name": "stdout",
     "output_type": "stream",
     "text": [
      "Requirement already satisfied: streamlit-drawable-canvas in /Users/tbroad/miniconda3/envs/aim/lib/python3.10/site-packages (0.9.3)\n",
      "Requirement already satisfied: Pillow in /Users/tbroad/miniconda3/envs/aim/lib/python3.10/site-packages (from streamlit-drawable-canvas) (10.4.0)\n",
      "Requirement already satisfied: numpy in /Users/tbroad/miniconda3/envs/aim/lib/python3.10/site-packages (from streamlit-drawable-canvas) (1.26.2)\n",
      "Requirement already satisfied: streamlit>=0.63 in /Users/tbroad/miniconda3/envs/aim/lib/python3.10/site-packages (from streamlit-drawable-canvas) (1.41.1)\n",
      "Requirement already satisfied: altair<6,>=4.0 in /Users/tbroad/miniconda3/envs/aim/lib/python3.10/site-packages (from streamlit>=0.63->streamlit-drawable-canvas) (5.3.0)\n",
      "Requirement already satisfied: blinker<2,>=1.0.0 in /Users/tbroad/miniconda3/envs/aim/lib/python3.10/site-packages (from streamlit>=0.63->streamlit-drawable-canvas) (1.9.0)\n",
      "Requirement already satisfied: cachetools<6,>=4.0 in /Users/tbroad/miniconda3/envs/aim/lib/python3.10/site-packages (from streamlit>=0.63->streamlit-drawable-canvas) (5.5.0)\n",
      "Requirement already satisfied: click<9,>=7.0 in /Users/tbroad/miniconda3/envs/aim/lib/python3.10/site-packages (from streamlit>=0.63->streamlit-drawable-canvas) (8.1.8)\n",
      "Requirement already satisfied: packaging<25,>=20 in /Users/tbroad/miniconda3/envs/aim/lib/python3.10/site-packages (from streamlit>=0.63->streamlit-drawable-canvas) (23.2)\n",
      "Requirement already satisfied: pandas<3,>=1.4.0 in /Users/tbroad/miniconda3/envs/aim/lib/python3.10/site-packages (from streamlit>=0.63->streamlit-drawable-canvas) (2.2.2)\n",
      "Requirement already satisfied: protobuf<6,>=3.20 in /Users/tbroad/miniconda3/envs/aim/lib/python3.10/site-packages (from streamlit>=0.63->streamlit-drawable-canvas) (5.29.3)\n",
      "Requirement already satisfied: pyarrow>=7.0 in /Users/tbroad/miniconda3/envs/aim/lib/python3.10/site-packages (from streamlit>=0.63->streamlit-drawable-canvas) (18.1.0)\n",
      "Requirement already satisfied: requests<3,>=2.27 in /Users/tbroad/miniconda3/envs/aim/lib/python3.10/site-packages (from streamlit>=0.63->streamlit-drawable-canvas) (2.31.0)\n",
      "Requirement already satisfied: rich<14,>=10.14.0 in /Users/tbroad/miniconda3/envs/aim/lib/python3.10/site-packages (from streamlit>=0.63->streamlit-drawable-canvas) (13.9.4)\n",
      "Requirement already satisfied: tenacity<10,>=8.1.0 in /Users/tbroad/miniconda3/envs/aim/lib/python3.10/site-packages (from streamlit>=0.63->streamlit-drawable-canvas) (9.0.0)\n",
      "Requirement already satisfied: toml<2,>=0.10.1 in /Users/tbroad/miniconda3/envs/aim/lib/python3.10/site-packages (from streamlit>=0.63->streamlit-drawable-canvas) (0.10.2)\n",
      "Requirement already satisfied: typing-extensions<5,>=4.3.0 in /Users/tbroad/miniconda3/envs/aim/lib/python3.10/site-packages (from streamlit>=0.63->streamlit-drawable-canvas) (4.8.0)\n",
      "Requirement already satisfied: gitpython!=3.1.19,<4,>=3.0.7 in /Users/tbroad/miniconda3/envs/aim/lib/python3.10/site-packages (from streamlit>=0.63->streamlit-drawable-canvas) (3.1.44)\n",
      "Requirement already satisfied: pydeck<1,>=0.8.0b4 in /Users/tbroad/miniconda3/envs/aim/lib/python3.10/site-packages (from streamlit>=0.63->streamlit-drawable-canvas) (0.9.1)\n",
      "Requirement already satisfied: tornado<7,>=6.0.3 in /Users/tbroad/miniconda3/envs/aim/lib/python3.10/site-packages (from streamlit>=0.63->streamlit-drawable-canvas) (6.4.2)\n",
      "Requirement already satisfied: jinja2 in /Users/tbroad/miniconda3/envs/aim/lib/python3.10/site-packages (from altair<6,>=4.0->streamlit>=0.63->streamlit-drawable-canvas) (3.1.5)\n",
      "Requirement already satisfied: jsonschema>=3.0 in /Users/tbroad/miniconda3/envs/aim/lib/python3.10/site-packages (from altair<6,>=4.0->streamlit>=0.63->streamlit-drawable-canvas) (4.23.0)\n",
      "Requirement already satisfied: toolz in /Users/tbroad/miniconda3/envs/aim/lib/python3.10/site-packages (from altair<6,>=4.0->streamlit>=0.63->streamlit-drawable-canvas) (1.0.0)\n",
      "Requirement already satisfied: gitdb<5,>=4.0.1 in /Users/tbroad/miniconda3/envs/aim/lib/python3.10/site-packages (from gitpython!=3.1.19,<4,>=3.0.7->streamlit>=0.63->streamlit-drawable-canvas) (4.0.12)\n",
      "Requirement already satisfied: python-dateutil>=2.8.2 in /Users/tbroad/miniconda3/envs/aim/lib/python3.10/site-packages (from pandas<3,>=1.4.0->streamlit>=0.63->streamlit-drawable-canvas) (2.9.0.post0)\n",
      "Requirement already satisfied: pytz>=2020.1 in /Users/tbroad/miniconda3/envs/aim/lib/python3.10/site-packages (from pandas<3,>=1.4.0->streamlit>=0.63->streamlit-drawable-canvas) (2024.2)\n",
      "Requirement already satisfied: tzdata>=2022.7 in /Users/tbroad/miniconda3/envs/aim/lib/python3.10/site-packages (from pandas<3,>=1.4.0->streamlit>=0.63->streamlit-drawable-canvas) (2024.2)\n",
      "Requirement already satisfied: charset-normalizer<4,>=2 in /Users/tbroad/miniconda3/envs/aim/lib/python3.10/site-packages (from requests<3,>=2.27->streamlit>=0.63->streamlit-drawable-canvas) (3.3.2)\n",
      "Requirement already satisfied: idna<4,>=2.5 in /Users/tbroad/miniconda3/envs/aim/lib/python3.10/site-packages (from requests<3,>=2.27->streamlit>=0.63->streamlit-drawable-canvas) (3.6)\n",
      "Requirement already satisfied: urllib3<3,>=1.21.1 in /Users/tbroad/miniconda3/envs/aim/lib/python3.10/site-packages (from requests<3,>=2.27->streamlit>=0.63->streamlit-drawable-canvas) (2.1.0)\n",
      "Requirement already satisfied: certifi>=2017.4.17 in /Users/tbroad/miniconda3/envs/aim/lib/python3.10/site-packages (from requests<3,>=2.27->streamlit>=0.63->streamlit-drawable-canvas) (2023.11.17)\n",
      "Requirement already satisfied: markdown-it-py>=2.2.0 in /Users/tbroad/miniconda3/envs/aim/lib/python3.10/site-packages (from rich<14,>=10.14.0->streamlit>=0.63->streamlit-drawable-canvas) (3.0.0)\n",
      "Requirement already satisfied: pygments<3.0.0,>=2.13.0 in /Users/tbroad/miniconda3/envs/aim/lib/python3.10/site-packages (from rich<14,>=10.14.0->streamlit>=0.63->streamlit-drawable-canvas) (2.19.1)\n",
      "Requirement already satisfied: smmap<6,>=3.0.1 in /Users/tbroad/miniconda3/envs/aim/lib/python3.10/site-packages (from gitdb<5,>=4.0.1->gitpython!=3.1.19,<4,>=3.0.7->streamlit>=0.63->streamlit-drawable-canvas) (5.0.2)\n",
      "Requirement already satisfied: MarkupSafe>=2.0 in /Users/tbroad/miniconda3/envs/aim/lib/python3.10/site-packages (from jinja2->altair<6,>=4.0->streamlit>=0.63->streamlit-drawable-canvas) (3.0.2)\n",
      "Requirement already satisfied: attrs>=22.2.0 in /Users/tbroad/miniconda3/envs/aim/lib/python3.10/site-packages (from jsonschema>=3.0->altair<6,>=4.0->streamlit>=0.63->streamlit-drawable-canvas) (24.3.0)\n",
      "Requirement already satisfied: jsonschema-specifications>=2023.03.6 in /Users/tbroad/miniconda3/envs/aim/lib/python3.10/site-packages (from jsonschema>=3.0->altair<6,>=4.0->streamlit>=0.63->streamlit-drawable-canvas) (2024.10.1)\n",
      "Requirement already satisfied: referencing>=0.28.4 in /Users/tbroad/miniconda3/envs/aim/lib/python3.10/site-packages (from jsonschema>=3.0->altair<6,>=4.0->streamlit>=0.63->streamlit-drawable-canvas) (0.35.1)\n",
      "Requirement already satisfied: rpds-py>=0.7.1 in /Users/tbroad/miniconda3/envs/aim/lib/python3.10/site-packages (from jsonschema>=3.0->altair<6,>=4.0->streamlit>=0.63->streamlit-drawable-canvas) (0.22.3)\n",
      "Requirement already satisfied: mdurl~=0.1 in /Users/tbroad/miniconda3/envs/aim/lib/python3.10/site-packages (from markdown-it-py>=2.2.0->rich<14,>=10.14.0->streamlit>=0.63->streamlit-drawable-canvas) (0.1.2)\n",
      "Requirement already satisfied: six>=1.5 in /Users/tbroad/miniconda3/envs/aim/lib/python3.10/site-packages (from python-dateutil>=2.8.2->pandas<3,>=1.4.0->streamlit>=0.63->streamlit-drawable-canvas) (1.17.0)\n",
      "Note: you may need to restart the kernel to use updated packages.\n"
     ]
    }
   ],
   "source": [
    "%pip install streamlit-drawable-canvas"
   ]
  },
  {
   "cell_type": "markdown",
   "metadata": {},
   "source": [
    "Now test the installation to see if it is installed correctly. You will get some warning buts as long as the final output is:\n",
    "\n",
    "```\n",
    "streamlit_drawable_canvas.CanvasResult\n",
    "```\n",
    "\n",
    "everything should work fine."
   ]
  },
  {
   "cell_type": "code",
   "execution_count": 5,
   "metadata": {},
   "outputs": [
    {
     "name": "stderr",
     "output_type": "stream",
     "text": [
      "2025-01-23 11:50:41.147 Thread 'MainThread': missing ScriptRunContext! This warning can be ignored when running in bare mode.\n",
      "2025-01-23 11:50:41.147 Thread 'MainThread': missing ScriptRunContext! This warning can be ignored when running in bare mode.\n",
      "2025-01-23 11:50:41.148 Thread 'MainThread': missing ScriptRunContext! This warning can be ignored when running in bare mode.\n",
      "2025-01-23 11:50:41.149 Thread 'MainThread': missing ScriptRunContext! This warning can be ignored when running in bare mode.\n",
      "2025-01-23 11:50:41.150 Thread 'MainThread': missing ScriptRunContext! This warning can be ignored when running in bare mode.\n",
      "2025-01-23 11:50:41.150 Thread 'MainThread': missing ScriptRunContext! This warning can be ignored when running in bare mode.\n",
      "2025-01-23 11:50:41.151 Thread 'MainThread': missing ScriptRunContext! This warning can be ignored when running in bare mode.\n",
      "2025-01-23 11:50:41.151 Thread 'MainThread': missing ScriptRunContext! This warning can be ignored when running in bare mode.\n"
     ]
    },
    {
     "data": {
      "text/plain": [
       "streamlit_drawable_canvas.CanvasResult"
      ]
     },
     "execution_count": 5,
     "metadata": {},
     "output_type": "execute_result"
    }
   ],
   "source": [
    "from streamlit_drawable_canvas import st_canvas\n",
    "\n",
    "canvas_result = st_canvas()\n",
    "st_canvas(initial_drawing=canvas_result.json_data)"
   ]
  },
  {
   "cell_type": "markdown",
   "metadata": {},
   "source": [
    "## How to run a streamlit app\n",
    "\n",
    "Running an app in streamlit is a bit different to how you will have run python code before. Sadly, this cannot be done directly in VSCode, you will need to use the command line interface for this. \n",
    "\n",
    "### Step 1: Find the path for this directory\n",
    "\n",
    "First you will need to find out the path to the directory this notebook file, (and [the python script for the streamlit app](week-3c-sketchy-collections-app.py) is in).\n",
    "\n",
    "The way you do this is slightly different on Macs (unix) and Windows machines. Run the respective cell for the operating system you are using and then copy and paste the absolute path:"
   ]
  },
  {
   "cell_type": "markdown",
   "metadata": {},
   "source": [
    "##### Find path on **Mac or Linux**"
   ]
  },
  {
   "cell_type": "code",
   "execution_count": 2,
   "metadata": {},
   "outputs": [
    {
     "data": {
      "text/plain": [
       "'/Users/tbroad/teaching/repos/24-25/AI-4-Media-Class-Activities-24-25'"
      ]
     },
     "execution_count": 2,
     "metadata": {},
     "output_type": "execute_result"
    }
   ],
   "source": [
    "%pwd "
   ]
  },
  {
   "cell_type": "markdown",
   "metadata": {},
   "source": [
    "##### Find path on **Windows**"
   ]
  },
  {
   "cell_type": "code",
   "execution_count": 3,
   "metadata": {},
   "outputs": [
    {
     "name": "stderr",
     "output_type": "stream",
     "text": [
      "UsageError: Line magic function `%chdir` not found.\n"
     ]
    }
   ],
   "source": [
    "%chdir"
   ]
  },
  {
   "cell_type": "markdown",
   "metadata": {},
   "source": [
    "### Step 2: Navigate this the directory in the command line\n",
    "\n",
    "You will now need to open up the correct application for your operating system and navigate to the directory. The software you need to use and instructions are different for Mac (unix) and Windows."
   ]
  },
  {
   "cell_type": "markdown",
   "metadata": {},
   "source": [
    "##### Change directory on **Mac and Linux:**\n",
    "\n",
    "Open your preferred terminal application of choice and run `cd` (change directory) followed by the path to this directory [you have got from the previous step](#find-path-on-mac-or-linux) e.g.:\n",
    "```\n",
    "cd path/to/this/directory\n",
    "```"
   ]
  },
  {
   "cell_type": "markdown",
   "metadata": {},
   "source": [
    "##### Change directory on **Windows**\n",
    "\n",
    "In Windows you will need to open an application called **Anaconda Prompt** in order to run python apps from the command line. \n",
    "\n",
    "Once you have Anaconda prompt open then you can run the `cd` (change directory) command followed by the path [you have got from the previous step](#find-path-on-windows), e.g.:\n",
    "\n",
    "```\n",
    "cd C:path\\to\\this\\directory\n",
    "```\n",
    "\n",
    "**If you get an error here, it may be because you are in the wrong drive**\n",
    "For instance if anaconda prompt has opened in the `C:` drive, but the path this code repo is in the `D:` drive, type `d:` into your terminal and hit enter. Once you are in the right drive then try the same `cd` command again and it should work."
   ]
  },
  {
   "cell_type": "markdown",
   "metadata": {},
   "source": [
    "### Step 3: Activate conda environment\n",
    "\n",
    "You now need to activate the `aim` conda environment that has the libraries installed that you need to run streamlit apps. To do this run the command in the CLI application you have been using:\n",
    "\n",
    "```\n",
    "conda activate aim\n",
    "```"
   ]
  },
  {
   "cell_type": "markdown",
   "metadata": {},
   "source": [
    "### Step 4: Launch the streamlit application \n",
    "\n",
    "To launch a streamlit application you need to run the command `streamlit run` followed by the python script (.py) file, that has the code in it for running the app. \n",
    "\n",
    "Try this on an example application to takes last weeks dog rating network and builds a user interface around it:\n",
    "```\n",
    "streamlit run week-2c-dog-rating-streamlit-app.py\n",
    "```\n",
    "\n",
    "Does the app launch in your browser?"
   ]
  },
  {
   "cell_type": "markdown",
   "metadata": {},
   "source": [
    "## Building sketchy collections as a streamlit app\n",
    "\n",
    "The task for today is to rebuild Polo Sologub's [Sketchy Collections](https://ualshowcase.arts.ac.uk/project/316244/cover) project as a streamlit app. Before you start this you will need to have completed the tasks in [Week-3a-Embeddings-with-CLIP.ipynb](Week-3a-Embeddings-with-CLIP.ipynb).\n",
    "\n",
    "In the file [week-3c-sketchy-collections-streamlit-app.py](week-3c-sketchy-collections-streamlit-app.py) is the starting point for this app, with an input for a user to draw on a canvas and some skeleton code for other parts of the user interface (UI). \n",
    "\n",
    "This weeks activity will walk you through the steps needed to use the CLIP embedding model to compare sketches drawn by the user to embeddings of sketches of a dataset of images from a museum collection. The tasks below will step you through that process:\n",
    "\n",
    "**Step 1:** Run the following command in your CLI program to launch the code and make sure it runs:\n",
    "\n",
    "```\n",
    "streamlit run week-2c-dog-rating-streamlit-app.py\n",
    "```\n",
    "**Step 2:** Create and load in the same open_clip model used [in the previous notebook](Week-3a-Embeddings-with-CLIP.ipynb) into the app code.\n",
    "\n",
    "**Step 3:** Take the canvas image and convert it into a numpy array, then into a torch tensor. \n",
    "\n",
    "**Step 4:** Transform this image to be a tensor of the right dimensionality for CLIP.\n",
    "\n",
    "**Step 5:** Pass this new tensor into the CLIP model to get an embedding for the image.\n",
    "\n",
    "**Step 6:** Now compare this embedding to all the array of embeddings that you calculated [in the previous notebook](Week-3a-Embeddings-with-CLIP.ipynb). \n",
    "\n",
    "**Step 7:** Display the closest match of the drawing in the correct streamlit UI component."
   ]
  }
 ],
 "metadata": {
  "kernelspec": {
   "display_name": "aim",
   "language": "python",
   "name": "python3"
  },
  "language_info": {
   "codemirror_mode": {
    "name": "ipython",
    "version": 3
   },
   "file_extension": ".py",
   "mimetype": "text/x-python",
   "name": "python",
   "nbconvert_exporter": "python",
   "pygments_lexer": "ipython3",
   "version": "3.10.16"
  }
 },
 "nbformat": 4,
 "nbformat_minor": 2
}
