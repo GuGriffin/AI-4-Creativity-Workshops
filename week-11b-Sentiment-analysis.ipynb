{
 "cells": [
  {
   "cell_type": "markdown",
   "metadata": {},
   "source": [
    "# Week 7b: Sentiment analysis\n",
    "\n",
    "This notebook is a short explainer of how to do sentiment analysis in Python using NLTK.\n",
    "\n",
    "Before you get started though, let just make sure that this notebook is setup to run using the `nlp` conda environment that you created at the start of term.\n",
    "\n",
    "To set this notebook to the right environment, click the **Select kernel** button in the top right corner of this notebook, then select **Python Environments...** and then select the environment `nlp`.\n",
    "\n",
    "To double check you have done this correctly, hit the run cell button (▶) on the cell below:"
   ]
  },
  {
   "cell_type": "code",
   "execution_count": 1,
   "metadata": {},
   "outputs": [
    {
     "name": "stdout",
     "output_type": "stream",
     "text": [
      "nlp\n"
     ]
    }
   ],
   "source": [
    "import os\n",
    "print(os.environ['CONDA_DEFAULT_ENV'])"
   ]
  },
  {
   "cell_type": "markdown",
   "metadata": {},
   "source": [
    "Import the relevant libraries:"
   ]
  },
  {
   "cell_type": "code",
   "execution_count": 2,
   "metadata": {},
   "outputs": [],
   "source": [
    "from nltk.sentiment.vader import SentimentIntensityAnalyzer"
   ]
  },
  {
   "cell_type": "code",
   "execution_count": 3,
   "metadata": {},
   "outputs": [
    {
     "name": "stdout",
     "output_type": "stream",
     "text": [
      "{'neg': 0.811, 'neu': 0.189, 'pos': 0.0, 'compound': -0.6467}\n"
     ]
    }
   ],
   "source": [
    "sid = SentimentIntensityAnalyzer()\n",
    "text = \"I hate you!!\"\n",
    "sentiment_scores = sid.polarity_scores(text)\n",
    "print(sentiment_scores)"
   ]
  },
  {
   "cell_type": "code",
   "execution_count": 11,
   "metadata": {},
   "outputs": [
    {
     "name": "stdout",
     "output_type": "stream",
     "text": [
      "The statement 'I feel good' has sentiment scores: {'neg': 0.0, 'neu': 0.256, 'pos': 0.744, 'compound': 0.4404}\n",
      "The statement 'That is fine' has sentiment scores: {'neg': 0.0, 'neu': 0.526, 'pos': 0.474, 'compound': 0.2023}\n",
      "The statement 'I absolutely hate that!' has sentiment scores: {'neg': 0.682, 'neu': 0.318, 'pos': 0.0, 'compound': -0.6468}\n",
      "The statement 'Fine, whatever.' has sentiment scores: {'neg': 0.0, 'neu': 0.357, 'pos': 0.643, 'compound': 0.2023}\n",
      "The statement '12345678' has sentiment scores: {'neg': 0.0, 'neu': 1.0, 'pos': 0.0, 'compound': 0.0}\n",
      "The statement 'no not again!' has sentiment scores: {'neg': 0.555, 'neu': 0.445, 'pos': 0.0, 'compound': -0.3595}\n"
     ]
    }
   ],
   "source": [
    "sentiment_texts = ['I feel good', 'That is fine', 'I absolutely hate that!', 'Fine, whatever.', '12345678', 'no not again!']\n",
    "\n",
    "for text in sentiment_texts:\n",
    "    sentiment_scores = sid.polarity_scores(text)\n",
    "    print(f\"The statement '{text}' has sentiment scores: {sentiment_scores}\")"
   ]
  },
  {
   "cell_type": "markdown",
   "metadata": {},
   "source": [
    "### Task 1: Write a function to detect negative sentiment\n",
    "\n",
    "In the function below, write code that performs sentiment analysis on the string `input_str` go determine if a text input is negative and needs to be responded to accordingly (in the context of a chatbot, this may be to stop the dialogue flow and and ask the user why they are upset, end the chat or redirect them to a human agent).\n",
    "\n",
    "This function should return a **Boolean** variables which is `True` if the user is upset and `False` if the user is not upset. \n",
    "\n",
    "You can use either the 'neg' sentiment score or the 'compound' score, and you should come up with a threshold that you think can appropriately capture how negative a text input needs to be before that triggers an action in your chatbot."
   ]
  },
  {
   "cell_type": "code",
   "execution_count": null,
   "metadata": {},
   "outputs": [],
   "source": [
    "def user_is_upset(input_str):\n",
    "    #"
   ]
  },
  {
   "cell_type": "markdown",
   "metadata": {},
   "source": [
    "### Task 2: Add function to chatbot\n",
    "\n",
    "Now add the function `user_is_upset` to the IntentChatbot in [week-7c-intent-based-chatbot.py](week-7c-intent-based-chatbot.py) as a member function (don't forget to use the keyword `self`). Then add a call to this function at the start of `generate_response`. \n",
    "\n",
    "If the function returns `True` then you can call the function `respond_negative_confirmation` or write a new function that responds appropriately to when the user is upset. \n",
    "\n",
    "If the function returns `False` then you can ignore this and instead use the classifier to respond to the user.\n",
    "\n"
   ]
  }
 ],
 "metadata": {
  "kernelspec": {
   "display_name": "nlp",
   "language": "python",
   "name": "python3"
  },
  "language_info": {
   "codemirror_mode": {
    "name": "ipython",
    "version": 3
   },
   "file_extension": ".py",
   "mimetype": "text/x-python",
   "name": "python",
   "nbconvert_exporter": "python",
   "pygments_lexer": "ipython3",
   "version": "3.10.15"
  }
 },
 "nbformat": 4,
 "nbformat_minor": 2
}
